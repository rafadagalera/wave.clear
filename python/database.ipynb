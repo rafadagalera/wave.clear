{
 "cells": [
  {
   "cell_type": "code",
   "execution_count": 37,
   "metadata": {},
   "outputs": [],
   "source": [
    "import json\n",
    "\n",
    "class Container:\n",
    "    def __init__(self):\n",
    "        self.container = {}\n",
    "        return\n",
    "    \n",
    "    def carregar_container(self, arquivo):\n",
    "        try:\n",
    "            with open(arquivo, 'r') as file:\n",
    "                container_data = json.load(file)\n",
    "                self.container = container_data\n",
    "        except FileNotFoundError:\n",
    "            print(\"Arquivo não encontrado\")\n",
    "    \n",
    "    def salvar_container(self, arquivo):\n",
    "        with open(arquivo, 'w') as file:\n",
    "            json.dump(self.container, file, indent=4)\n",
    "    def alterar_valor_sensor(self,sensor,valor):\n",
    "        self.container[sensor] = valor\n",
    "        self.salvar_container('container.json')\n",
    "        return\n",
    "    def ler_valor_sensor(self,sensor):\n",
    "        return self.container.get(sensor)\n",
    "    def ler_volume_container(self):\n",
    "        sensores_ocupados = sum(self.container.values())\n",
    "        return sensores_ocupados\n",
    "\n",
    "\n",
    "\n",
    "# Create the initial container data\n",
    "template_container = {\n",
    "    \"Sensor 1\": False,\n",
    "    \"Sensor 2\": False,\n",
    "    \"Sensor 3\": False,\n",
    "    \"Sensor 4\": False,\n",
    "    \"Sensor 5\": False,\n",
    "    \"Sensor 6\": False,\n",
    "    \"Sensor 7\": False,\n",
    "    \"Sensor 8\": False,\n",
    "    \"Sensor 9\": False,\n",
    "    \"Sensor 10\": False,\n",
    "    \"Sensor 11\": False,\n",
    "    \"Sensor 12\": False,\n",
    "    \"Sensor 13\": False,\n",
    "    \"Sensor 14\": False,\n",
    "    \"Sensor 15\": False,\n",
    "    \"Sensor 16\": False,\n",
    "    \"Sensor 17\": False,\n",
    "    \"Sensor 18\": False,\n",
    "}\n",
    "\n",
    "# Create an instance of the Container class\n",
    "container1 = Container()\n",
    "\n",
    "# Load the container data from 'container.json' if it exists\n",
    "container1.carregar_container('container.json')\n",
    "\n",
    "# Update the container data with the initial data\n",
    "container1.container.update(template_container)\n",
    "\n",
    "# Save the updated container data to 'container.json'\n",
    "container1.salvar_container('container.json')\n"
   ]
  },
  {
   "cell_type": "code",
   "execution_count": 41,
   "metadata": {},
   "outputs": [
    {
     "data": {
      "text/plain": [
       "0"
      ]
     },
     "execution_count": 41,
     "metadata": {},
     "output_type": "execute_result"
    }
   ],
   "source": [
    "container1.alterar_valor_sensor(\"Sensor 3\", False)\n",
    "container1.ler_volume_container()"
   ]
  },
  {
   "cell_type": "code",
   "execution_count": 29,
   "metadata": {},
   "outputs": [
    {
     "data": {
      "text/plain": [
       "0"
      ]
     },
     "execution_count": 29,
     "metadata": {},
     "output_type": "execute_result"
    }
   ],
   "source": [
    "container1.ler_volume_container()"
   ]
  }
 ],
 "metadata": {
  "kernelspec": {
   "display_name": "Python 3",
   "language": "python",
   "name": "python3"
  },
  "language_info": {
   "codemirror_mode": {
    "name": "ipython",
    "version": 3
   },
   "file_extension": ".py",
   "mimetype": "text/x-python",
   "name": "python",
   "nbconvert_exporter": "python",
   "pygments_lexer": "ipython3",
   "version": "3.11.9"
  }
 },
 "nbformat": 4,
 "nbformat_minor": 2
}
