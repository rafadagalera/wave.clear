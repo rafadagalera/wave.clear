{
 "cells": [
  {
   "cell_type": "code",
   "execution_count": 9,
   "metadata": {},
   "outputs": [
    {
     "name": "stderr",
     "output_type": "stream",
     "text": [
      "C:\\Users\\batma\\AppData\\Local\\Temp\\ipykernel_3480\\3691821403.py:39: DeprecationWarning: Callback API version 1 is deprecated, update to latest version\n",
      "  client = mqtt.Client()\n"
     ]
    },
    {
     "name": "stdout",
     "output_type": "stream",
     "text": [
      "Message published: 1\n",
      "Connected with result code 0\n",
      "Subscribed: 2 (0,)\n",
      "Message received: waveclear {\"status\":\"not full\"}\n",
      "Message received: waveclear {\"status\":\"not full\"}\n",
      "Message received: waveclear {\"status\":\"not full\"}\n",
      "Message received: waveclear {\"status\":\"full\"}\n",
      "Exiting...\n"
     ]
    },
    {
     "data": {
      "text/plain": [
       "<MQTTErrorCode.MQTT_ERR_SUCCESS: 0>"
      ]
     },
     "execution_count": 9,
     "metadata": {},
     "output_type": "execute_result"
    }
   ],
   "source": [
    "import paho.mqtt.client as mqtt\n",
    "import json\n",
    "from datetime import datetime\n",
    "\n",
    "def on_connect(client, userdata, flags, rc):\n",
    "    print(f\"Connected with result code {rc}\")\n",
    "    client.subscribe(\"waveclear\")\n",
    "\n",
    "def on_message(client, userdata, msg):\n",
    "    print(f\"Message received: {msg.topic} {msg.payload.decode()}\")\n",
    "    now = datetime.now()\n",
    "    timestamp = now.strftime(\"%Y-%m-%d %H:%M:%S\")\n",
    "    message_data = {\n",
    "        \"timestamp\": timestamp,\n",
    "        \"topic\": msg.topic,\n",
    "        \"payload\": msg.payload.decode()\n",
    "    }\n",
    "    data_log.append(message_data)\n",
    "    with open('data_logs.json', 'w') as file:\n",
    "        json.dump(data_log, file, indent=4)    \n",
    "\n",
    "def on_publish(client, userdata, mid):\n",
    "    print(f\"Message published: {mid}\")\n",
    "\n",
    "def on_subscribe(client, userdata, mid, granted_qos):\n",
    "    print(f\"Subscribed: {mid} {granted_qos}\")\n",
    "\n",
    "client = mqtt.Client()\n",
    "\n",
    "client.on_connect = on_connect\n",
    "client.on_message = on_message\n",
    "client.on_publish = on_publish\n",
    "client.on_subscribe = on_subscribe\n",
    "\n",
    "broker = \"broker.hivemq.com\"\n",
    "port = 1883\n",
    "client.connect(broker, port, 60)\n",
    "\n",
    "client.loop_start()\n",
    "\n",
    "data_log = []\n",
    "\n",
    "client.publish(\"test/topic\", \"Hello from Python!\")\n",
    "\n",
    "try:\n",
    "    while True:\n",
    "        pass\n",
    "except KeyboardInterrupt:\n",
    "    print(\"Exiting...\")\n",
    "\n",
    "client.loop_stop()\n",
    "client.disconnect()\n"
   ]
  }
 ],
 "metadata": {
  "kernelspec": {
   "display_name": "Python 3",
   "language": "python",
   "name": "python3"
  },
  "language_info": {
   "codemirror_mode": {
    "name": "ipython",
    "version": 3
   },
   "file_extension": ".py",
   "mimetype": "text/x-python",
   "name": "python",
   "nbconvert_exporter": "python",
   "pygments_lexer": "ipython3",
   "version": "3.11.9"
  }
 },
 "nbformat": 4,
 "nbformat_minor": 2
}
