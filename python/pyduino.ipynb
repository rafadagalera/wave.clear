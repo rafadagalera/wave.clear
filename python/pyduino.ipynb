{
 "cells": [
  {
   "cell_type": "code",
   "execution_count": 3,
   "metadata": {},
   "outputs": [
    {
     "name": "stderr",
     "output_type": "stream",
     "text": [
      "C:\\Users\\batma\\AppData\\Local\\Temp\\ipykernel_13712\\2535668711.py:19: DeprecationWarning: Callback API version 1 is deprecated, update to latest version\n",
      "  client = mqtt.Client()\n"
     ]
    },
    {
     "name": "stdout",
     "output_type": "stream",
     "text": [
      "Message published: 1\n",
      "Connected with result code 0\n",
      "Subscribed: 2 (0,)\n",
      "Message received: test/dagalera HAHAHAHAHA\n",
      "Message received: test/dagalera AKDJSALKDJKASLD\n",
      "Message received: test/dagalera AKDJSALKDJKASLD\n",
      "Message received: test/dagalera AKDJSALKDJKASLD\n",
      "Message received: test/dagalera AKDJSALKDJKASLD\n",
      "Message received: test/dagalera AKDJSALKDJKASLD\n",
      "Message received: test/dagalera KRL TIO\n",
      "\n",
      "Exiting...\n"
     ]
    },
    {
     "data": {
      "text/plain": [
       "<MQTTErrorCode.MQTT_ERR_SUCCESS: 0>"
      ]
     },
     "execution_count": 3,
     "metadata": {},
     "output_type": "execute_result"
    }
   ],
   "source": [
    "import paho.mqtt.client as mqtt\n",
    "\n",
    "# Define the callback functions\n",
    "def on_connect(client, userdata, flags, rc):\n",
    "    print(f\"Connected with result code {rc}\")\n",
    "    # Subscribe to a topic\n",
    "    client.subscribe(\"test/dagalera\")\n",
    "\n",
    "def on_message(client, userdata, msg):\n",
    "    print(f\"Message received: {msg.topic} {msg.payload.decode()}\")\n",
    "\n",
    "def on_publish(client, userdata, mid):\n",
    "    print(f\"Message published: {mid}\")\n",
    "\n",
    "def on_subscribe(client, userdata, mid, granted_qos):\n",
    "    print(f\"Subscribed: {mid} {granted_qos}\")\n",
    "\n",
    "# Create an MQTT client instance\n",
    "client = mqtt.Client()\n",
    "\n",
    "# Assign the callback functions\n",
    "client.on_connect = on_connect\n",
    "client.on_message = on_message\n",
    "client.on_publish = on_publish\n",
    "client.on_subscribe = on_subscribe\n",
    "\n",
    "# Connect to the HiveMQ broker\n",
    "broker = \"broker.hivemq.com\"\n",
    "port = 1883\n",
    "client.connect(broker, port, 60)\n",
    "\n",
    "# Start the loop\n",
    "client.loop_start()\n",
    "\n",
    "# Publish a message\n",
    "client.publish(\"test/topic\", \"Hello from Python!\")\n",
    "\n",
    "# Keep the script running to receive messages\n",
    "try:\n",
    "    while True:\n",
    "        pass\n",
    "except KeyboardInterrupt:\n",
    "    print(\"Exiting...\")\n",
    "\n",
    "# Stop the loop and disconnect\n",
    "client.loop_stop()\n",
    "client.disconnect()"
   ]
  }
 ],
 "metadata": {
  "kernelspec": {
   "display_name": "Python 3",
   "language": "python",
   "name": "python3"
  },
  "language_info": {
   "codemirror_mode": {
    "name": "ipython",
    "version": 3
   },
   "file_extension": ".py",
   "mimetype": "text/x-python",
   "name": "python",
   "nbconvert_exporter": "python",
   "pygments_lexer": "ipython3",
   "version": "3.11.9"
  }
 },
 "nbformat": 4,
 "nbformat_minor": 2
}
